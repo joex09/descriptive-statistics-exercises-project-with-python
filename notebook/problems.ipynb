{
    "cells": [
        {
            "cell_type": "markdown",
            "id": "ac622319",
            "metadata": {},
            "source": [
                "# Descriptive Statistics Problems"
            ]
        },
        {
            "cell_type": "markdown",
            "id": "aa8993e4",
            "metadata": {},
            "source": [
                "### Exercise 1"
            ]
        },
        {
            "cell_type": "markdown",
            "id": "5e0ab0d5",
            "metadata": {},
            "source": [
                "As right now, you are familliar with numpy, we are going to use numpy to get some data statistics.\n",
                "\n",
                "First, lets create an array of 20 elements distributed normally (Gaussian):\n",
                "\n",
                "Use the np.random.normal function to create some data, using 0,1,20 as parameters because we want a one dimentional array of 20 numbers distributed normally (Gaussian)"
            ]
        },
        {
            "cell_type": "code",
            "execution_count": 6,
            "id": "34720ab6",
            "metadata": {},
            "outputs": [
                {
                    "name": "stdout",
                    "output_type": "stream",
                    "text": [
                        "[-12.64052665  15.27905352  -9.70710938 ...   1.38153076   3.61903283\n",
                        "   6.56962831]\n"
                    ]
                }
            ],
            "source": [
                "#import libraries\n",
                "import numpy as np \n",
                "\n",
                "\n",
                "# Set seed in order to get similar results\n",
                "np.random.seed(30)\n",
                "\n",
                "# create the data\n",
                "x = np.random.normal(0,10,3000)\n",
                "\n",
                "\n",
                "#print results\n",
                "print(x)"
            ]
        },
        {
            "cell_type": "code",
            "execution_count": 7,
            "id": "49c55822",
            "metadata": {},
            "outputs": [
                {
                    "data": {
                        "text/plain": [
                            "0.16584406952852399"
                        ]
                    },
                    "execution_count": 7,
                    "metadata": {},
                    "output_type": "execute_result"
                }
            ],
            "source": [
                "#Use numpy to get the mean of your data\n",
                "np.mean(x)"
            ]
        },
        {
            "cell_type": "code",
            "execution_count": 8,
            "id": "03529459",
            "metadata": {},
            "outputs": [
                {
                    "data": {
                        "text/plain": [
                            "97.7436334758862"
                        ]
                    },
                    "execution_count": 8,
                    "metadata": {},
                    "output_type": "execute_result"
                }
            ],
            "source": [
                "#get the variance of your data\n",
                "np.var(x)"
            ]
        },
        {
            "cell_type": "code",
            "execution_count": 9,
            "id": "e53f30c5",
            "metadata": {},
            "outputs": [
                {
                    "data": {
                        "text/plain": [
                            "9.88653799243629"
                        ]
                    },
                    "execution_count": 9,
                    "metadata": {},
                    "output_type": "execute_result"
                }
            ],
            "source": [
                "# Standard deviation\n",
                "np.std(x)"
            ]
        },
        {
            "cell_type": "code",
            "execution_count": 10,
            "id": "9bce852f",
            "metadata": {},
            "outputs": [
                {
                    "name": "stdout",
                    "output_type": "stream",
                    "text": [
                        "ModeResult(mode=array([-30.92049751]), count=array([1]))\n",
                        "ModeResult(mode=array([1]), count=array([2]))\n"
                    ]
                },
                {
                    "name": "stderr",
                    "output_type": "stream",
                    "text": [
                        "/tmp/ipykernel_1620/3361283825.py:4: FutureWarning: Unlike other reduction functions (e.g. `skew`, `kurtosis`), the default behavior of `mode` typically preserves the axis it acts along. In SciPy 1.11.0, this behavior will change: the default value of `keepdims` will become False, the `axis` over which the statistic is taken will be eliminated, and the value None will no longer be accepted. Set `keepdims` to True or False to avoid this warning.\n",
                        "  print(stats.mode(x))\n",
                        "/tmp/ipykernel_1620/3361283825.py:7: FutureWarning: Unlike other reduction functions (e.g. `skew`, `kurtosis`), the default behavior of `mode` typically preserves the axis it acts along. In SciPy 1.11.0, this behavior will change: the default value of `keepdims` will become False, the `axis` over which the statistic is taken will be eliminated, and the value None will no longer be accepted. Set `keepdims` to True or False to avoid this warning.\n",
                        "  print(stats.mode(v))\n"
                    ]
                }
            ],
            "source": [
                "#import libraries \n",
                "from scipy import stats\n",
                "#print the mode\n",
                "print(stats.mode(x)) \n",
                "# Mode for continuous array\n",
                "v = np.array([1,2,9,8,1,2,8,9,5,5,3,7,3])\n",
                "print(stats.mode(v))"
            ]
        },
        {
            "cell_type": "code",
            "execution_count": 11,
            "id": "c682cb6e",
            "metadata": {},
            "outputs": [
                {
                    "data": {
                        "text/plain": [
                            "0.2804694974730869"
                        ]
                    },
                    "execution_count": 11,
                    "metadata": {},
                    "output_type": "execute_result"
                }
            ],
            "source": [
                "# Median\n",
                "np.median(x)"
            ]
        },
        {
            "cell_type": "code",
            "execution_count": 12,
            "id": "39c3fabd",
            "metadata": {},
            "outputs": [
                {
                    "name": "stdout",
                    "output_type": "stream",
                    "text": [
                        "0.2804694974730869\n"
                    ]
                }
            ],
            "source": [
                "# Print the Quantiles\n",
                "print(np.quantile(x, 0.5))"
            ]
        },
        {
            "cell_type": "markdown",
            "id": "46c70c3d",
            "metadata": {},
            "source": [
                "### Exercise 2\n",
                "\n",
                "Write a Python program to calculate the standard deviation of the following data:\n",
                "```py\n",
                "data = [4, 2, 5, 8, 6]\n",
                "```"
            ]
        },
        {
            "cell_type": "code",
            "execution_count": 13,
            "id": "d590308e",
            "metadata": {},
            "outputs": [
                {
                    "name": "stdout",
                    "output_type": "stream",
                    "text": [
                        "Array:  [4, 2, 5, 8, 6]\n",
                        "Suma:  25\n",
                        "Largo:  5\n",
                        "Media:  5.0\n",
                        "SD:  2.0\n"
                    ]
                }
            ],
            "source": [
                "import math\n",
                "import sys\n",
                "\n",
                "# Define the standard deviation function\n",
                "\n",
                "def sd_calc(data):\n",
                "    #code here\n",
                "    mean = avg_calc(data)\n",
                "    print('Media: ',mean)\n",
                "    var = sum((l-mean)**2 for l in data) / len(data)\n",
                "    # calculate stan. dev.\n",
                "    #st_dev = np.std(data)\n",
                "    st_dev = math.sqrt(var)\n",
                "    return st_dev\n",
                "\n",
                "# Define the average function\n",
                "\n",
                "def avg_calc(ls):\n",
                "    #code here\n",
                "    media = sum(ls) / len(ls)\n",
                "    print('Suma: ', sum(ls))\n",
                "    print('Largo: ',len(ls))\n",
                "    return media\n",
                "    # calculate average\n",
                "    \n",
                "data = [4, 2, 5, 8, 6]\n",
                "#print the data\n",
                "print('Array: ', data)\n",
                "#print the standard deviation of the data\n",
                "print('SD: ', sd_calc(data))"
            ]
        },
        {
            "cell_type": "markdown",
            "id": "04b71791",
            "metadata": {},
            "source": [
                "Source:\n",
                "\n",
                "https://www.w3resource.com/"
            ]
        }
    ],
    "metadata": {
        "kernelspec": {
            "display_name": "Python 3.8.13 64-bit ('3.8.13')",
            "language": "python",
            "name": "python3"
        },
        "language_info": {
            "codemirror_mode": {
                "name": "ipython",
                "version": 3
            },
            "file_extension": ".py",
            "mimetype": "text/x-python",
            "name": "python",
            "nbconvert_exporter": "python",
            "pygments_lexer": "ipython3",
            "version": "3.8.13"
        },
        "vscode": {
            "interpreter": {
                "hash": "110cc1dee26208153f2972f08a2ad52b6a56238dc66d48e87fb757ef2996db56"
            }
        }
    },
    "nbformat": 4,
    "nbformat_minor": 5
}
